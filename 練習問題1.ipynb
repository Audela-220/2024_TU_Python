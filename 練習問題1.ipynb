{
  "nbformat": 4,
  "nbformat_minor": 0,
  "metadata": {
    "colab": {
      "provenance": [],
      "include_colab_link": true
    },
    "kernelspec": {
      "name": "python3",
      "display_name": "Python 3"
    },
    "language_info": {
      "name": "python"
    }
  },
  "cells": [
    {
      "cell_type": "markdown",
      "metadata": {
        "id": "view-in-github",
        "colab_type": "text"
      },
      "source": [
        "<a href=\"https://colab.research.google.com/github/Audela-220/2024_TU_Python/blob/main/%E7%B7%B4%E7%BF%92%E5%95%8F%E9%A1%8C1.ipynb\" target=\"_parent\"><img src=\"https://colab.research.google.com/assets/colab-badge.svg\" alt=\"Open In Colab\"/></a>"
      ]
    },
    {
      "cell_type": "markdown",
      "source": [
        "# 第1回\n"
      ],
      "metadata": {
        "id": "yj07v_6jEFCP"
      }
    },
    {
      "cell_type": "markdown",
      "source": [
        "## 数値演算"
      ],
      "metadata": {
        "id": "uoeCTMKYEiv0"
      }
    },
    {
      "cell_type": "markdown",
      "source": [
        "### 問1\n",
        "4055を23で割った商と余り（いずれも整数値）を計算し、商を変数`a`、余りを変数`b`にそれぞれ代入せよ。"
      ],
      "metadata": {
        "id": "NfDLtdiPElii"
      }
    },
    {
      "cell_type": "code",
      "execution_count": null,
      "metadata": {
        "id": "aA6vwz8ZEEXu"
      },
      "outputs": [],
      "source": []
    },
    {
      "cell_type": "markdown",
      "source": [
        "### 問2\n",
        "5000円札を3枚、100円玉を1つ、1円玉を3つ支払って12048円の商品を買った時のお釣りの額を変数`change`に代入せよ。\n"
      ],
      "metadata": {
        "id": "RvypHWv6F0zC"
      }
    },
    {
      "cell_type": "code",
      "source": [],
      "metadata": {
        "id": "ejX11AA3FtTa"
      },
      "execution_count": null,
      "outputs": []
    },
    {
      "cell_type": "markdown",
      "source": [
        "## 変数"
      ],
      "metadata": {
        "id": "DXLv7lQyICBU"
      }
    },
    {
      "cell_type": "markdown",
      "source": [
        "### 問3\n",
        "変数`x`と変数`y`の値の平均値を計算し、変数`z`へ代入せよ。"
      ],
      "metadata": {
        "id": "ehPFHSgWGwaH"
      }
    },
    {
      "cell_type": "code",
      "source": [
        "x = 83\n",
        "y = 61\n",
        "z ="
      ],
      "metadata": {
        "id": "g4e7gxMAGahr"
      },
      "execution_count": null,
      "outputs": []
    },
    {
      "cell_type": "markdown",
      "source": [
        "### 問4\n",
        "変数`a`, `b`, `c`の値をもとに$\\sqrt{b^2 - 4 ac}$の値を計算し、変数`det`へ代入せよ。\n",
        "\n",
        "また、変数`det`の値をもとに$\\frac{-b+\\sqrt{b^2 - 4 ac}}{2a}$, $\\frac{-b-\\sqrt{b^2 - 4 ac}}{2a}$の値を計算し、それぞれ変数`sol1`, `sol2`へ代入せよ。"
      ],
      "metadata": {
        "id": "fherpz3vIUby"
      }
    },
    {
      "cell_type": "code",
      "source": [
        "a = 3\n",
        "b = -5\n",
        "c = -7\n",
        "det =\n",
        "sol1 =\n",
        "sol2 ="
      ],
      "metadata": {
        "id": "8AgzSDZMISnp"
      },
      "execution_count": null,
      "outputs": []
    },
    {
      "cell_type": "markdown",
      "source": [
        "## 関数\n"
      ],
      "metadata": {
        "id": "0GV0eMHZKYRZ"
      }
    },
    {
      "cell_type": "markdown",
      "source": [
        "### 問5\n",
        "引数`x`に数値を受け取り、その3乗を計算して返す関数を作成せよ。"
      ],
      "metadata": {
        "id": "Ot3s5mI7Kjb4"
      }
    },
    {
      "cell_type": "code",
      "source": [
        "def mycubed(x):\n"
      ],
      "metadata": {
        "id": "iXD-wG0kJ86J"
      },
      "execution_count": null,
      "outputs": []
    },
    {
      "cell_type": "markdown",
      "source": [
        "### 問6\n",
        "2つの正の整数を引数`a`, `b`でそれぞれ受け取り、`a`の値を`b`の値で割ったあまりを返す関数を作成せよ。"
      ],
      "metadata": {
        "id": "RP--SXVFLOLh"
      }
    },
    {
      "cell_type": "code",
      "source": [
        "def myremainder(a, b):\n"
      ],
      "metadata": {
        "id": "7mO8KCZyLELw"
      },
      "execution_count": null,
      "outputs": []
    },
    {
      "cell_type": "markdown",
      "source": [
        "### 問7\n",
        "２つの整数を引数`a`, `b`でそれぞれ受け取り、`a`の値と`b`の値がどちらも0より大きい場合のみ`a`の値と`b`の値をかけた値を返す関数を作成せよ。`a`の値と`b`の値どちらかが0以下であれば、関数は0を返す。"
      ],
      "metadata": {
        "id": "nEBymqZqMZLA"
      }
    },
    {
      "cell_type": "code",
      "source": [
        "def pos_int_mul(a, b):\n"
      ],
      "metadata": {
        "id": "IwiZTv5SLpbW"
      },
      "execution_count": null,
      "outputs": []
    },
    {
      "cell_type": "markdown",
      "source": [
        "## 解答"
      ],
      "metadata": {
        "id": "ozuhjxA3MoPG"
      }
    },
    {
      "cell_type": "code",
      "source": [
        "a = 4055 // 23\n",
        "b = 4055 % 23\n",
        "print(a, b)"
      ],
      "metadata": {
        "colab": {
          "base_uri": "https://localhost:8080/"
        },
        "id": "ViEEz0HNFl-_",
        "outputId": "55dfa5d0-f213-419d-e4d9-e69370e41eef"
      },
      "execution_count": null,
      "outputs": [
        {
          "output_type": "stream",
          "name": "stdout",
          "text": [
            "176 7\n"
          ]
        }
      ]
    },
    {
      "cell_type": "code",
      "source": [
        "change = 5000 * 3 + 100 + 3 - 12048\n",
        "print(change)"
      ],
      "metadata": {
        "colab": {
          "base_uri": "https://localhost:8080/"
        },
        "id": "siC0gMAfGRUe",
        "outputId": "2093be45-e539-4d8e-f5fa-bdfeea9e0cdc"
      },
      "execution_count": null,
      "outputs": [
        {
          "output_type": "stream",
          "name": "stdout",
          "text": [
            "3055\n"
          ]
        }
      ]
    },
    {
      "cell_type": "code",
      "source": [
        "x = 83\n",
        "y = 61\n",
        "z = (x + y) / 2\n",
        "print(z)"
      ],
      "metadata": {
        "colab": {
          "base_uri": "https://localhost:8080/"
        },
        "id": "5YM8ZApZHsd-",
        "outputId": "141009ee-ffef-4a50-9202-ef9c2346b541"
      },
      "execution_count": null,
      "outputs": [
        {
          "output_type": "stream",
          "name": "stdout",
          "text": [
            "72.0\n"
          ]
        }
      ]
    },
    {
      "cell_type": "code",
      "source": [
        "a = 3\n",
        "b = -5\n",
        "c = -7\n",
        "det = (b ** 2 - 4 * a * c) ** 0.5\n",
        "sol1 = (-b + det) / (2 * a)\n",
        "sol2 = (-b - det) / (2 * a)\n",
        "print(sol1, sol2)"
      ],
      "metadata": {
        "colab": {
          "base_uri": "https://localhost:8080/"
        },
        "id": "vJV8QXGVJrGU",
        "outputId": "e3a0de17-4643-4517-c59d-41c840add022"
      },
      "execution_count": null,
      "outputs": [
        {
          "output_type": "stream",
          "name": "stdout",
          "text": [
            "2.5733844181517584 -0.9067177514850918\n"
          ]
        }
      ]
    },
    {
      "cell_type": "code",
      "source": [
        "def mycubed(x):\n",
        "  return x ** 3\n",
        "\n",
        "mycubed(10)"
      ],
      "metadata": {
        "colab": {
          "base_uri": "https://localhost:8080/"
        },
        "id": "XvL9maB1K-4W",
        "outputId": "def58aa6-29d6-48cd-8e41-bc686c13df40"
      },
      "execution_count": null,
      "outputs": [
        {
          "output_type": "execute_result",
          "data": {
            "text/plain": [
              "1000"
            ]
          },
          "metadata": {},
          "execution_count": 8
        }
      ]
    },
    {
      "cell_type": "code",
      "source": [
        "def myremainder(a, b):\n",
        "  return a % b\n",
        "\n",
        "myremainder(10, 3)"
      ],
      "metadata": {
        "colab": {
          "base_uri": "https://localhost:8080/"
        },
        "id": "iezH_MCgLkgg",
        "outputId": "a2151dbd-77c4-479f-de66-aa425a194ccc"
      },
      "execution_count": null,
      "outputs": [
        {
          "output_type": "execute_result",
          "data": {
            "text/plain": [
              "1"
            ]
          },
          "metadata": {},
          "execution_count": 9
        }
      ]
    },
    {
      "cell_type": "code",
      "source": [
        "def pos_int_mul(a, b):\n",
        "  if a > 0 and b > 0:\n",
        "    return a * b\n",
        "  else:\n",
        "    return 0\n",
        "\n",
        "pos_int_mul(10, 3)"
      ],
      "metadata": {
        "colab": {
          "base_uri": "https://localhost:8080/"
        },
        "id": "H5bGgfLCMWjL",
        "outputId": "eb689b15-2783-443b-87e6-6501f95aa414"
      },
      "execution_count": null,
      "outputs": [
        {
          "output_type": "execute_result",
          "data": {
            "text/plain": [
              "30"
            ]
          },
          "metadata": {},
          "execution_count": 10
        }
      ]
    }
  ]
}