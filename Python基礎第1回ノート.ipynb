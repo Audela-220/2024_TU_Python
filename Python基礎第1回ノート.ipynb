{
  "nbformat": 4,
  "nbformat_minor": 0,
  "metadata": {
    "colab": {
      "provenance": [],
      "include_colab_link": true
    },
    "kernelspec": {
      "name": "python3",
      "display_name": "Python 3"
    },
    "language_info": {
      "name": "python"
    }
  },
  "cells": [
    {
      "cell_type": "markdown",
      "metadata": {
        "id": "view-in-github",
        "colab_type": "text"
      },
      "source": [
        "<a href=\"https://colab.research.google.com/github/Audela-220/2024_TU_Python/blob/main/Python%E5%9F%BA%E7%A4%8E%E7%AC%AC1%E5%9B%9E%E3%83%8E%E3%83%BC%E3%83%88.ipynb\" target=\"_parent\"><img src=\"https://colab.research.google.com/assets/colab-badge.svg\" alt=\"Open In Colab\"/></a>"
      ]
    },
    {
      "cell_type": "markdown",
      "source": [
        "### 1-1. 数値演算\n",
        "- 算術計算\n",
        "  - `+` 足し算\n",
        "  - `-` 引き算\n",
        "  - `*` 掛け算\n",
        "  - `**` 冪乗\n",
        "  - `/` 除算\n",
        "  - `//` 整数除算（商の計算）\n",
        "  - `%` 余りの計算\n",
        "- 式の評価の優先順位\n",
        "  - `**` > `*`, `/`, `//`, `%` > `+`, `-`（2項の加減演算）\n",
        "  - 括弧を使って計算（式の評価）の優先順位を指定できる\n",
        "\n"
      ],
      "metadata": {
        "id": "YcArUgZ_7Epq"
      }
    },
    {
      "cell_type": "code",
      "source": [
        "7-2*3"
      ],
      "metadata": {
        "id": "-zae53i5GCFv",
        "outputId": "a2794803-5d42-4822-a16d-f21265bbacdc",
        "colab": {
          "base_uri": "https://localhost:8080/"
        }
      },
      "execution_count": null,
      "outputs": [
        {
          "output_type": "execute_result",
          "data": {
            "text/plain": [
              "1"
            ]
          },
          "metadata": {},
          "execution_count": 1
        }
      ]
    },
    {
      "cell_type": "code",
      "source": [
        "(7-2)**3"
      ],
      "metadata": {
        "id": "ozBBHt_dGG9w",
        "colab": {
          "base_uri": "https://localhost:8080/"
        },
        "outputId": "8c8a5d0c-713c-4e8a-f571-d769e81627d4"
      },
      "execution_count": null,
      "outputs": [
        {
          "output_type": "execute_result",
          "data": {
            "text/plain": [
              "125"
            ]
          },
          "metadata": {},
          "execution_count": 1
        }
      ]
    },
    {
      "cell_type": "markdown",
      "source": [
        "- 数には整数と実数（浮動小数点数）がある\n",
        "  - 整数同士の演算結果は整数（割り算は小数）\n",
        "  - 実数を含む演算結果は実数\n",
        "  - 実数による小数表現や実数を含む演算では誤差が発生することがある"
      ],
      "metadata": {
        "id": "sVFMn68uF8vU"
      }
    },
    {
      "cell_type": "code",
      "source": [
        "(2022**(1/3))**3"
      ],
      "metadata": {
        "id": "031rr9eCIcWr"
      },
      "execution_count": null,
      "outputs": []
    },
    {
      "cell_type": "markdown",
      "source": [
        "### 1-2. 変数と関数の基礎\n",
        "- 変数： 値に'名前'をつける仕組み。定義した変数は式の中で再利用可能。変数は上書きできる\n",
        "- 代入文: `=`の左辺に右辺の式の評価結果の値を割り当てる文\n",
        "  - `変数 = 式`\n",
        "  \n"
      ],
      "metadata": {
        "id": "Tym5FE7A-A3y"
      }
    },
    {
      "cell_type": "code",
      "execution_count": null,
      "metadata": {
        "id": "MNUPRTRG4XH-"
      },
      "outputs": [],
      "source": [
        "h = 170\n",
        "h = h + 5\n",
        "w = 60\n",
        "w = w + 5\n",
        "bmi = w / h**2\n",
        "print(h, w, bmi)"
      ]
    },
    {
      "cell_type": "markdown",
      "source": [
        "- 関数： 一連の処理に名前をつけたもの。定義した関数の処理は再利用可能\n",
        "   - 引数： 関数が受け取る値を指し示す変数\n",
        "   - 返値： 関数の処理の結果。`return`で返値を指定。`return`をすると関数の処理はそこで終了"
      ],
      "metadata": {
        "id": "X1IPzScbABrO"
      }
    },
    {
      "cell_type": "code",
      "source": [
        "def mybmi(h, w):\n",
        "  bmi  = w / h**2\n",
        "  return bmi"
      ],
      "metadata": {
        "id": "GV5gpx37ABWq"
      },
      "execution_count": null,
      "outputs": []
    },
    {
      "cell_type": "code",
      "source": [
        "a = mybmi(170, 60)\n",
        "b = mybmi(180, 70)\n",
        "c = mybmi(160, 50)"
      ],
      "metadata": {
        "id": "djj4EuuEA2PG"
      },
      "execution_count": null,
      "outputs": []
    },
    {
      "cell_type": "markdown",
      "source": [
        "- インデントとブロック\n",
        "  - Pythonのコードは1行以上をひとまとまりとしてブロックとすることができます\n",
        "  - ブロックの区間は、コードのインデントで指定します\n",
        "  - インデントとは、行の先頭に何個かのスペースを入れることです\n",
        "  - Pythonの標準コーディングスタイルでは、4文字のスペースを入れます（ノートブックのセルではtabでインデントが挿入されます）\n",
        "    - ブロックはインデントで始まる\n",
        "    - ブロックの中には新しいブロックを含めることができる\n",
        "    - インデントがなくなるか、上位のブロックのインデントに戻るとそのブロックは終了する"
      ],
      "metadata": {
        "id": "DmqA3RQNGTOj"
      }
    },
    {
      "cell_type": "markdown",
      "source": [
        "### 1-3. 論理・比較演算と条件分岐の基礎\n",
        "  - 真理値: `True`（真）か`False`（偽）の値\n",
        "  - 比較演算子\n",
        "    - 2つの変数（式、値）を比較して真理値を返す\n",
        "    - `<`, `<=`, `>`, `>=` 大小\n",
        "    - `==` 等しい\n",
        "    - `!=` 等しくない\n",
        "  - 比較演算子とブール演算子（`and`や`or`）を組み合わせて複雑な条件をつくることができる"
      ],
      "metadata": {
        "id": "g4DCL8z0BfH9"
      }
    },
    {
      "cell_type": "code",
      "source": [
        "1 > 0"
      ],
      "metadata": {
        "id": "aihnLdfS4QrC"
      },
      "execution_count": null,
      "outputs": []
    },
    {
      "cell_type": "code",
      "source": [
        "x = 10\n",
        "y = 0\n",
        "x <= 5 or y == 0"
      ],
      "metadata": {
        "id": "vrauf0LDDjVA"
      },
      "execution_count": null,
      "outputs": []
    },
    {
      "cell_type": "markdown",
      "source": [
        "- if文による条件分岐\n",
        "  - if文：フロー制御文の1つ\n",
        "    - if文に続くブロック（インデントされたコード部分）は、if文の条件式が`True`の時に実行される\n",
        "    - 条件式が`False`ならば、そのブロックの実行はスキップされる\n",
        "  - else文\n",
        "    - if文にはelse文を続けることができる\n",
        "    - else文に続くブロックには、先のif文の条件式が`False`の時に実行される\n",
        "  "
      ],
      "metadata": {
        "id": "okj5f687EP9c"
      }
    },
    {
      "cell_type": "code",
      "source": [
        "def mybmi(h, w):\n",
        "  if h > 0 and w > 0:\n",
        "    return w / h**2\n",
        "  else:\n",
        "    return -1"
      ],
      "metadata": {
        "id": "Ab8ln4yUE3Ya"
      },
      "execution_count": null,
      "outputs": []
    },
    {
      "cell_type": "code",
      "source": [
        "mybmi(170, 60)"
      ],
      "metadata": {
        "id": "l33pn3B55WkL"
      },
      "execution_count": null,
      "outputs": []
    },
    {
      "cell_type": "code",
      "source": [
        "mybmi(170, 0)"
      ],
      "metadata": {
        "id": "_65ZPVOW7J6J"
      },
      "execution_count": null,
      "outputs": []
    },
    {
      "cell_type": "markdown",
      "source": [
        "### クイズ"
      ],
      "metadata": {
        "id": "yJZPXI2V6eoQ"
      }
    },
    {
      "cell_type": "markdown",
      "source": [
        "#### Q1\n",
        "2022 × 1019を計算する以下の式を完成させよ。"
      ],
      "metadata": {
        "id": "PH6bVzDx4jiH"
      }
    },
    {
      "cell_type": "code",
      "source": [
        "2022 * 1019"
      ],
      "metadata": {
        "id": "p9Uia25u4lXW",
        "colab": {
          "base_uri": "https://localhost:8080/"
        },
        "outputId": "a9397082-e7ed-4cf7-ecd1-e69e3ec24af3"
      },
      "execution_count": null,
      "outputs": [
        {
          "output_type": "execute_result",
          "data": {
            "text/plain": [
              "2060418"
            ]
          },
          "metadata": {},
          "execution_count": 2
        }
      ]
    },
    {
      "cell_type": "markdown",
      "source": [
        "#### Q2\n",
        "2022を19で割った余りを計算する以下の式を完成させよ。"
      ],
      "metadata": {
        "id": "zd6NbP7Q4yU_"
      }
    },
    {
      "cell_type": "code",
      "source": [
        "2022 % 19"
      ],
      "metadata": {
        "id": "O3QSeo3J44xh",
        "colab": {
          "base_uri": "https://localhost:8080/"
        },
        "outputId": "ba6c6427-cea5-47c8-ba77-91f39321061e"
      },
      "execution_count": null,
      "outputs": [
        {
          "output_type": "execute_result",
          "data": {
            "text/plain": [
              "8"
            ]
          },
          "metadata": {},
          "execution_count": 3
        }
      ]
    },
    {
      "cell_type": "markdown",
      "source": [
        "#### Q3\n",
        "4088484の平方根を計算し、その結果を変数xに保持する以下のコードを完成させよ。"
      ],
      "metadata": {
        "id": "0CSrnvbZ48b1"
      }
    },
    {
      "cell_type": "code",
      "source": [
        "x = 4088484 ** 0.5"
      ],
      "metadata": {
        "id": "pJ1YmPiy5AlH"
      },
      "execution_count": null,
      "outputs": []
    },
    {
      "cell_type": "code",
      "source": [
        "x"
      ],
      "metadata": {
        "id": "GTMUzuZ1678e",
        "colab": {
          "base_uri": "https://localhost:8080/"
        },
        "outputId": "c4afc688-af78-4dbc-fba5-9d7aedae6c5d"
      },
      "execution_count": null,
      "outputs": [
        {
          "output_type": "execute_result",
          "data": {
            "text/plain": [
              "2022.0"
            ]
          },
          "metadata": {},
          "execution_count": 6
        }
      ]
    },
    {
      "cell_type": "markdown",
      "source": [
        "#### Q4\n",
        "数値を引数xに受け取り、その2乗の値を返す以下の関数squareを完成させよ。"
      ],
      "metadata": {
        "id": "lGzgsJv75Fft"
      }
    },
    {
      "cell_type": "code",
      "source": [
        "def square(x):\n",
        "  return x ** 2"
      ],
      "metadata": {
        "id": "YGmgHUvm5Ois"
      },
      "execution_count": null,
      "outputs": []
    },
    {
      "cell_type": "code",
      "source": [
        "square(2022)"
      ],
      "metadata": {
        "id": "-8dvYHsH6sz9",
        "colab": {
          "base_uri": "https://localhost:8080/"
        },
        "outputId": "8a7b985a-de4c-4f22-d779-ac4ec7aa297e"
      },
      "execution_count": null,
      "outputs": [
        {
          "output_type": "execute_result",
          "data": {
            "text/plain": [
              "4088484"
            ]
          },
          "metadata": {},
          "execution_count": 9
        }
      ]
    },
    {
      "cell_type": "markdown",
      "source": [
        "#### Q5\n",
        "2つの数値を引数x,yに受け取り、xとyが共に正（0より大きい）の場合Trueを、それ以外ではFalseを返す以下の関数mylogicを完成させよ。"
      ],
      "metadata": {
        "id": "_6G0ULTi5VNq"
      }
    },
    {
      "cell_type": "code",
      "source": [
        "def mylogic(x, y):\n",
        "  return x > 0 and y > 0"
      ],
      "metadata": {
        "id": "6XiYxuaa5uiF"
      },
      "execution_count": null,
      "outputs": []
    },
    {
      "cell_type": "code",
      "source": [
        "mylogic(1, 1)"
      ],
      "metadata": {
        "id": "_PJckpcN6wOF",
        "colab": {
          "base_uri": "https://localhost:8080/"
        },
        "outputId": "d29051f4-107b-4a93-a4e0-46f17d12d399"
      },
      "execution_count": null,
      "outputs": [
        {
          "output_type": "execute_result",
          "data": {
            "text/plain": [
              "True"
            ]
          },
          "metadata": {},
          "execution_count": 11
        }
      ]
    },
    {
      "cell_type": "markdown",
      "source": [
        "#### 挑戦課題\n",
        "素数$p$と整数$a（0 < a < p）$を引数に受け取って 、$a$の$(p−2)$乗を$p$で割った余りを返す以下の関数mod_invを完成させよ。"
      ],
      "metadata": {
        "id": "IAZDkliA59jy"
      }
    },
    {
      "cell_type": "code",
      "source": [
        "def mod_inv(p, a):\n",
        "    if a > 0 and p > a:\n",
        "      return (a ** (p - 2)) % p\n",
        "    return False"
      ],
      "metadata": {
        "id": "18ir44k86G6w"
      },
      "execution_count": null,
      "outputs": []
    },
    {
      "cell_type": "code",
      "source": [
        "mod_inv(p=5, a=2)"
      ],
      "metadata": {
        "id": "Q-msmIXx60kg",
        "colab": {
          "base_uri": "https://localhost:8080/"
        },
        "outputId": "c02c2a88-ff7a-4f5f-f864-5488c919c0e9"
      },
      "execution_count": null,
      "outputs": [
        {
          "output_type": "execute_result",
          "data": {
            "text/plain": [
              "3"
            ]
          },
          "metadata": {},
          "execution_count": 14
        }
      ]
    },
    {
      "cell_type": "code",
      "source": [],
      "metadata": {
        "id": "82kWCbgOM1A2"
      },
      "execution_count": null,
      "outputs": []
    }
  ]
}